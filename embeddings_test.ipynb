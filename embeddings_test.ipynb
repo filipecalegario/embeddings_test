{
 "cells": [
  {
   "cell_type": "code",
   "execution_count": null,
   "metadata": {},
   "outputs": [],
   "source": [
    "%pip install -q ollama"
   ]
  },
  {
   "cell_type": "code",
   "execution_count": 2,
   "metadata": {},
   "outputs": [],
   "source": [
    "import ollama"
   ]
  },
  {
   "cell_type": "code",
   "execution_count": null,
   "metadata": {},
   "outputs": [],
   "source": [
    "# Read the string from a file\n",
    "with open('input.txt', 'r') as file:\n",
    "    data = file.read()\n",
    "\n",
    "# Split the string by spaces\n",
    "split_data = data.split()\n",
    "\n",
    "print(split_data)"
   ]
  },
  {
   "cell_type": "code",
   "execution_count": null,
   "metadata": {},
   "outputs": [],
   "source": [
    "%%time\n",
    "\n",
    "# Generate an embedding for the given prompt using the 'nomic-embed-text' model\n",
    "embedding = ollama.embeddings(model='nomic-embed-text', prompt='The sky is blue because of rayleigh scattering')\n",
    "\n",
    "# Print the generated embedding\n",
    "print(embedding)"
   ]
  },
  {
   "cell_type": "code",
   "execution_count": null,
   "metadata": {},
   "outputs": [],
   "source": [
    "window_size = 10\n",
    "sliding_windows = [split_data[i:i + window_size] for i in range(len(split_data) - window_size + 1)]\n",
    "\n",
    "print(sliding_windows)\n",
    "\n",
    "embeddings_list = []\n",
    "\n",
    "for window in sliding_windows:\n",
    "    content = \" \".join(window)\n",
    "    embedding = ollama.embeddings(model='nomic-embed-text', prompt=content)\n",
    "    embeddings_list.append(embedding)"
   ]
  },
  {
   "cell_type": "code",
   "execution_count": null,
   "metadata": {},
   "outputs": [],
   "source": [
    "%pip install -q numpy scikit-learn"
   ]
  },
  {
   "cell_type": "code",
   "execution_count": null,
   "metadata": {},
   "outputs": [],
   "source": [
    "from sklearn.metrics.pairwise import cosine_similarity\n",
    "import numpy as np\n",
    "\n",
    "# Function to calculate cosine similarity between two embeddings\n",
    "def calculate_cosine_similarity(embedding1, embedding2):\n",
    "    return cosine_similarity([embedding1], [embedding2])[0][0]\n",
    "\n",
    "# Calculate cosine similarity for consecutive embeddings\n",
    "cosine_similarities = []\n",
    "\n",
    "for i in range(len(embeddings_list) - 1):\n",
    "    embedding1 = embeddings_list[i]['embedding']\n",
    "    embedding2 = embeddings_list[i + 1]['embedding']\n",
    "    similarity = calculate_cosine_similarity(embedding1, embedding2)\n",
    "    cosine_similarities.append(similarity)\n",
    "\n",
    "print(cosine_similarities)"
   ]
  },
  {
   "cell_type": "code",
   "execution_count": null,
   "metadata": {},
   "outputs": [],
   "source": [
    "%pip install -q matplotlib"
   ]
  },
  {
   "cell_type": "code",
   "execution_count": null,
   "metadata": {},
   "outputs": [],
   "source": [
    "import matplotlib.pyplot as plt\n",
    "\n",
    "plt.figure(figsize=(40, 2))\n",
    "plt.plot(range(len(cosine_similarities)), cosine_similarities, marker='o', linestyle='-', markersize=2)\n",
    "plt.title('Cosine Similarities Over Time')\n",
    "plt.xlabel('Time')\n",
    "plt.ylabel('Cosine Similarity')\n",
    "plt.grid(True)\n",
    "plt.show()"
   ]
  }
 ],
 "metadata": {
  "kernelspec": {
   "display_name": "embd",
   "language": "python",
   "name": "python3"
  },
  "language_info": {
   "codemirror_mode": {
    "name": "ipython",
    "version": 3
   },
   "file_extension": ".py",
   "mimetype": "text/x-python",
   "name": "python",
   "nbconvert_exporter": "python",
   "pygments_lexer": "ipython3",
   "version": "3.12.7"
  }
 },
 "nbformat": 4,
 "nbformat_minor": 2
}
